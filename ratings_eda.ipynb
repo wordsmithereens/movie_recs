{
 "cells": [
  {
   "cell_type": "code",
   "execution_count": 1,
   "metadata": {},
   "outputs": [],
   "source": [
    "import pandas as pd\n",
    "import matplotlib.pyplot as plt\n",
    "import numpy as np \n",
    "from collections import Counter   "
   ]
  },
  {
   "cell_type": "code",
   "execution_count": 2,
   "metadata": {},
   "outputs": [
    {
     "name": "stdout",
     "output_type": "stream",
     "text": [
      "1::0114508::8::1381006850\r\n",
      "2::0075314::1::1595468524\r\n",
      "2::0102926::9::1590148016\r\n",
      "2::0114369::10::1597555347\r\n",
      "2::0118715::8::1596006798\r\n",
      "2::0120737::8::1599306720\r\n",
      "2::0208092::5::1586466072\r\n",
      "2::0358273::9::1579057827\r\n",
      "2::0477348::6::1597289003\r\n",
      "2::10039344::5::1578603053\r\n"
     ]
    }
   ],
   "source": [
    "! head MovieTweetings-master/latest/ratings.dat "
   ]
  },
  {
   "cell_type": "code",
   "execution_count": 3,
   "metadata": {},
   "outputs": [
    {
     "data": {
      "text/html": [
       "<div>\n",
       "<style scoped>\n",
       "    .dataframe tbody tr th:only-of-type {\n",
       "        vertical-align: middle;\n",
       "    }\n",
       "\n",
       "    .dataframe tbody tr th {\n",
       "        vertical-align: top;\n",
       "    }\n",
       "\n",
       "    .dataframe thead th {\n",
       "        text-align: right;\n",
       "    }\n",
       "</style>\n",
       "<table border=\"1\" class=\"dataframe\">\n",
       "  <thead>\n",
       "    <tr style=\"text-align: right;\">\n",
       "      <th></th>\n",
       "      <th>user_id</th>\n",
       "      <th>movie_id</th>\n",
       "      <th>rating</th>\n",
       "      <th>rating_timestamp</th>\n",
       "    </tr>\n",
       "  </thead>\n",
       "  <tbody>\n",
       "    <tr>\n",
       "      <th>0</th>\n",
       "      <td>1</td>\n",
       "      <td>114508</td>\n",
       "      <td>8</td>\n",
       "      <td>2013-10-05 21:00:50</td>\n",
       "    </tr>\n",
       "    <tr>\n",
       "      <th>1</th>\n",
       "      <td>2</td>\n",
       "      <td>75314</td>\n",
       "      <td>1</td>\n",
       "      <td>2020-07-23 01:42:04</td>\n",
       "    </tr>\n",
       "    <tr>\n",
       "      <th>2</th>\n",
       "      <td>2</td>\n",
       "      <td>102926</td>\n",
       "      <td>9</td>\n",
       "      <td>2020-05-22 11:46:56</td>\n",
       "    </tr>\n",
       "    <tr>\n",
       "      <th>3</th>\n",
       "      <td>2</td>\n",
       "      <td>114369</td>\n",
       "      <td>10</td>\n",
       "      <td>2020-08-16 05:22:27</td>\n",
       "    </tr>\n",
       "    <tr>\n",
       "      <th>4</th>\n",
       "      <td>2</td>\n",
       "      <td>118715</td>\n",
       "      <td>8</td>\n",
       "      <td>2020-07-29 07:13:18</td>\n",
       "    </tr>\n",
       "    <tr>\n",
       "      <th>...</th>\n",
       "      <td>...</td>\n",
       "      <td>...</td>\n",
       "      <td>...</td>\n",
       "      <td>...</td>\n",
       "    </tr>\n",
       "    <tr>\n",
       "      <th>888447</th>\n",
       "      <td>69322</td>\n",
       "      <td>9784456</td>\n",
       "      <td>6</td>\n",
       "      <td>2020-07-27 00:40:13</td>\n",
       "    </tr>\n",
       "    <tr>\n",
       "      <th>888448</th>\n",
       "      <td>69322</td>\n",
       "      <td>9898858</td>\n",
       "      <td>3</td>\n",
       "      <td>2020-04-04 00:00:52</td>\n",
       "    </tr>\n",
       "    <tr>\n",
       "      <th>888449</th>\n",
       "      <td>69323</td>\n",
       "      <td>172495</td>\n",
       "      <td>10</td>\n",
       "      <td>2020-04-17 07:03:35</td>\n",
       "    </tr>\n",
       "    <tr>\n",
       "      <th>888450</th>\n",
       "      <td>69323</td>\n",
       "      <td>414387</td>\n",
       "      <td>10</td>\n",
       "      <td>2020-04-17 07:17:32</td>\n",
       "    </tr>\n",
       "    <tr>\n",
       "      <th>888451</th>\n",
       "      <td>69324</td>\n",
       "      <td>1623205</td>\n",
       "      <td>6</td>\n",
       "      <td>2013-03-09 12:37:35</td>\n",
       "    </tr>\n",
       "  </tbody>\n",
       "</table>\n",
       "<p>888452 rows × 4 columns</p>\n",
       "</div>"
      ],
      "text/plain": [
       "        user_id  movie_id  rating    rating_timestamp\n",
       "0             1    114508       8 2013-10-05 21:00:50\n",
       "1             2     75314       1 2020-07-23 01:42:04\n",
       "2             2    102926       9 2020-05-22 11:46:56\n",
       "3             2    114369      10 2020-08-16 05:22:27\n",
       "4             2    118715       8 2020-07-29 07:13:18\n",
       "...         ...       ...     ...                 ...\n",
       "888447    69322   9784456       6 2020-07-27 00:40:13\n",
       "888448    69322   9898858       3 2020-04-04 00:00:52\n",
       "888449    69323    172495      10 2020-04-17 07:03:35\n",
       "888450    69323    414387      10 2020-04-17 07:17:32\n",
       "888451    69324   1623205       6 2013-03-09 12:37:35\n",
       "\n",
       "[888452 rows x 4 columns]"
      ]
     },
     "execution_count": 3,
     "metadata": {},
     "output_type": "execute_result"
    }
   ],
   "source": [
    "# user_id::movie_id::rating::rating_timestamp. \n",
    "df = pd.read_csv(\"MovieTweetings-master/latest/ratings.dat\", \n",
    "                 sep=\"::\", engine=\"python\",\n",
    "                 names=[\"user_id\", \"movie_id\", \"rating\", \"rating_timestamp\"] )\n",
    "\n",
    "df['rating_timestamp'] = pd.to_datetime(df['rating_timestamp'], unit='s')\n",
    "df"
   ]
  },
  {
   "cell_type": "markdown",
   "metadata": {},
   "source": [
    "### Answer the following questions.\n",
    "\n",
    "a. How many users and movies are mentioned in the dataset?\n",
    "\n",
    "b. How old are the data points (number of data points per year)\n",
    "\n",
    "c. How popular are popular movies? Looking at the data, when will you say a movie is popular?\n",
    "\n",
    "d. How many long-tail movies are there?\n",
    "\n",
    "e. How many movies has each user rated?\n",
    "\n",
    "f. If you had a recommender system that only recommends the most popular movies, how good would it be?\n",
    "\n",
    "Write a report answering the questions above, with charts illustrating your answers."
   ]
  },
  {
   "cell_type": "markdown",
   "metadata": {},
   "source": [
    "## How many users and movies are mentioned in the dataset?"
   ]
  },
  {
   "cell_type": "code",
   "execution_count": 4,
   "metadata": {},
   "outputs": [
    {
     "name": "stdout",
     "output_type": "stream",
     "text": [
      "Number Users: 69,324 number movies: 36,380 \n"
     ]
    }
   ],
   "source": [
    "print(f\"Number Users: {len(df['user_id'].unique()):,} number movies: {len(df['movie_id'].unique()):,} \")"
   ]
  },
  {
   "cell_type": "markdown",
   "metadata": {},
   "source": [
    "## How old are the data points (number of data points per year)"
   ]
  },
  {
   "cell_type": "code",
   "execution_count": 5,
   "metadata": {},
   "outputs": [
    {
     "name": "stdout",
     "output_type": "stream",
     "text": [
      "Year\tMovie Ratings\n",
      "2013\t170,807\n",
      "2014\t156,354\n",
      "2015\t123,644\n",
      "2016\t112,455\n",
      "2017\t105,987\n",
      "2018\t81,870\n",
      "2019\t74,183\n",
      "2020\t63,152\n"
     ]
    }
   ],
   "source": [
    "df['year'] = pd.DatetimeIndex(df['rating_timestamp']).year \n",
    "counter = Counter(df['year'].tolist())\n",
    "print(\"Year\\tMovie Ratings\")\n",
    "for year, cnt in sorted(counter.items(), key=lambda x:x[0]):\n",
    "    print(f\"{year}\\t{cnt:,}\")"
   ]
  },
  {
   "cell_type": "markdown",
   "metadata": {},
   "source": [
    "## How popular are popular movies? Looking at the data, when will you say a movie is popular?"
   ]
  },
  {
   "cell_type": "code",
   "execution_count": 6,
   "metadata": {},
   "outputs": [
    {
     "data": {
      "text/plain": [
       "[<matplotlib.lines.Line2D at 0x7fa6f193fd90>]"
      ]
     },
     "execution_count": 6,
     "metadata": {},
     "output_type": "execute_result"
    },
    {
     "data": {
      "image/png": "[encoded data removed]",
      "text/plain": [
       "<Figure size 432x288 with 1 Axes>"
      ]
     },
     "metadata": {
      "needs_background": "light"
     },
     "output_type": "display_data"
    }
   ],
   "source": [
    "# df['movie_id'].plot.hist(bins=10)\n",
    "counter = Counter(df['movie_id'].tolist())\n",
    "\n",
    "# print(\"Movies\\tRatings\")\n",
    "movies_ratings = sorted(counter.items(), key=lambda x:x[0])\n",
    "movies, ratings = zip(* movies_ratings)\n",
    "plt.xlabel('Movie')\n",
    "plt.ylabel('# Ratings')\n",
    "# plt.yscale('log')\n",
    "plt.plot(range(len(movies)), ratings )\n",
    "# for ratings, users in ratings_users:\n",
    "#     print(f\"{ratings:,}\\t{users:,}\")\n",
    "# plt.hist(ratings, bins=20)  "
   ]
  },
  {
   "cell_type": "markdown",
   "metadata": {},
   "source": [
    "## How many movies has each user rated?"
   ]
  },
  {
   "cell_type": "code",
   "execution_count": 7,
   "metadata": {},
   "outputs": [
    {
     "name": "stdout",
     "output_type": "stream",
     "text": [
      "Number of ratings\tUsers\n"
     ]
    },
    {
     "data": {
      "text/plain": [
       "[<matplotlib.lines.Line2D at 0x7fa6e9fc8490>]"
      ]
     },
     "execution_count": 7,
     "metadata": {},
     "output_type": "execute_result"
    },
    {
     "data": {
      "image/png": "[encoded data removed]",
      "text/plain": [
       "<Figure size 432x288 with 1 Axes>"
      ]
     },
     "metadata": {
      "needs_background": "light"
     },
     "output_type": "display_data"
    }
   ],
   "source": [
    "counter = Counter(df['user_id'].tolist())\n",
    "ratings_counter = Counter(counter.values())\n",
    "print(\"Number of ratings\\tUsers\")\n",
    "ratings_users = sorted(ratings_counter.items(), key=lambda x:x[0])\n",
    "# for ratings, users in ratings_users:\n",
    "#     print(f\"{ratings:,}\\t{users:,}\")\n",
    "\n",
    "ratings, users = zip(* ratings_users)\n",
    "plt.xlabel('ratings')\n",
    "plt.ylabel('users')\n",
    "plt.yscale('log')\n",
    "plt.plot(ratings, users)"
   ]
  },
  {
   "cell_type": "markdown",
   "metadata": {},
   "source": [
    "##  How many long-tail movies are there?"
   ]
  },
  {
   "cell_type": "code",
   "execution_count": 8,
   "metadata": {},
   "outputs": [
    {
     "name": "stdout",
     "output_type": "stream",
     "text": [
      " 10 percentile of ratings: 49.800000000000004\n",
      " 20 percentile of ratings: 98.60000000000001\n",
      " 30 percentile of ratings: 147.4\n",
      " 40 percentile of ratings: 196.20000000000002\n",
      " 50 percentile of ratings: 246.0\n",
      " 60 percentile of ratings: 300.8\n",
      " 70 percentile of ratings: 367.19999999999993\n",
      " 80 percentile of ratings: 453.80000000000007\n",
      " 90 percentile of ratings: 614.5999999999999\n"
     ]
    }
   ],
   "source": [
    "for i in range(1,10):\n",
    "    print (f\" {i}0 percentile of ratings: {np.percentile(ratings, i*10)}\")"
   ]
  },
  {
   "cell_type": "markdown",
   "metadata": {},
   "source": [
    "## If you had a recommender system that only recommends the most popular movies, how good would it be?"
   ]
  },
  {
   "cell_type": "code",
   "execution_count": 9,
   "metadata": {},
   "outputs": [],
   "source": [
    "# Not good to rely on just popular movies"
   ]
  },
  {
   "cell_type": "code",
   "execution_count": null,
   "metadata": {},
   "outputs": [],
   "source": []
  }
 ],
 "metadata": {
  "kernelspec": {
   "display_name": "Python 3",
   "language": "python",
   "name": "python3"
  },
  "language_info": {
   "codemirror_mode": {
    "name": "ipython",
    "version": 3
   },
   "file_extension": ".py",
   "mimetype": "text/x-python",
   "name": "python",
   "nbconvert_exporter": "python",
   "pygments_lexer": "ipython3",
   "version": "3.7.6"
  }
 },
 "nbformat": 4,
 "nbformat_minor": 4
}
