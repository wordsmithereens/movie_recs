{
 "cells": [
  {
   "cell_type": "markdown",
   "metadata": {},
   "source": [
    "### Tasks\n",
    "* Create a Jupyter notebook.\n",
    "* Load the data (which you can find in MovieTweetings).\n",
    "* Use sklearn.decompose.nmf to create latent vectors for each movie.\n",
    "* Save the vectors in the following format (user userid, how should have content_id1 and content_id3 recommended, with the predicted ratings being value1 and value2 respectively: Userid content_id1:value1 content_id3:value2\n",
    "    * For example, for user 1000 (this is only a top-4 rec, list should contain 10-20),\n",
    "        * 100 1375666:1.420 0482571:0.232 1457767:0.158 1130884:0.113\n",
    "\n",
    "* Locate the recsys api template, where you should verify that the implementation will work with your implementation(/live-project/recs/non_negative_mf_recommender.py):\n",
    "    * In the __init__ method, check if the implementation can load your trained vectors.\n",
    "    * In the recommend_items method, return a recommendation for the user. Use the vectors loaded in the __init__ method.\n",
    "* Start the MovieGeek site.\n",
    "    * Find a user with a taste similar to yours by looking through users in the analytics part. This is user_id 100: http://0.0.0.0:8010/analytics/user/100/.\n",
    "    * Look at the recommendations your algorithm provides.\n",
    "* Write a report that describes\n",
    "    * how you implemented your algorithm\n",
    "    * how you trained the model\n",
    "    * what you think of the result"
   ]
  },
  {
   "cell_type": "code",
   "execution_count": 12,
   "metadata": {},
   "outputs": [],
   "source": [
    "from tqdm import tqdm"
   ]
  },
  {
   "cell_type": "code",
   "execution_count": 37,
   "metadata": {},
   "outputs": [],
   "source": [
    "import pickle\n",
    "import os"
   ]
  },
  {
   "cell_type": "code",
   "execution_count": 3,
   "metadata": {},
   "outputs": [],
   "source": [
    "import re\n",
    "\n",
    "import pandas as pd\n",
    "import numpy as np\n",
    "from sklearn.decomposition import NMF\n",
    "import matplotlib.pyplot as plt"
   ]
  },
  {
   "cell_type": "code",
   "execution_count": 4,
   "metadata": {},
   "outputs": [
    {
     "data": {
      "text/html": [
       "<div>\n",
       "<style scoped>\n",
       "    .dataframe tbody tr th:only-of-type {\n",
       "        vertical-align: middle;\n",
       "    }\n",
       "\n",
       "    .dataframe tbody tr th {\n",
       "        vertical-align: top;\n",
       "    }\n",
       "\n",
       "    .dataframe thead th {\n",
       "        text-align: right;\n",
       "    }\n",
       "</style>\n",
       "<table border=\"1\" class=\"dataframe\">\n",
       "  <thead>\n",
       "    <tr style=\"text-align: right;\">\n",
       "      <th></th>\n",
       "      <th>user_id</th>\n",
       "      <th>movie_id</th>\n",
       "      <th>rating</th>\n",
       "      <th>rating_timestamp</th>\n",
       "    </tr>\n",
       "  </thead>\n",
       "  <tbody>\n",
       "    <tr>\n",
       "      <th>0</th>\n",
       "      <td>1</td>\n",
       "      <td>114508</td>\n",
       "      <td>8</td>\n",
       "      <td>2013-10-05 21:00:50</td>\n",
       "    </tr>\n",
       "    <tr>\n",
       "      <th>1</th>\n",
       "      <td>2</td>\n",
       "      <td>75314</td>\n",
       "      <td>1</td>\n",
       "      <td>2020-07-23 01:42:04</td>\n",
       "    </tr>\n",
       "    <tr>\n",
       "      <th>2</th>\n",
       "      <td>2</td>\n",
       "      <td>102926</td>\n",
       "      <td>9</td>\n",
       "      <td>2020-05-22 11:46:56</td>\n",
       "    </tr>\n",
       "    <tr>\n",
       "      <th>3</th>\n",
       "      <td>2</td>\n",
       "      <td>114369</td>\n",
       "      <td>10</td>\n",
       "      <td>2020-08-16 05:22:27</td>\n",
       "    </tr>\n",
       "    <tr>\n",
       "      <th>4</th>\n",
       "      <td>2</td>\n",
       "      <td>118715</td>\n",
       "      <td>8</td>\n",
       "      <td>2020-07-29 07:13:18</td>\n",
       "    </tr>\n",
       "  </tbody>\n",
       "</table>\n",
       "</div>"
      ],
      "text/plain": [
       "   user_id  movie_id  rating    rating_timestamp\n",
       "0        1    114508       8 2013-10-05 21:00:50\n",
       "1        2     75314       1 2020-07-23 01:42:04\n",
       "2        2    102926       9 2020-05-22 11:46:56\n",
       "3        2    114369      10 2020-08-16 05:22:27\n",
       "4        2    118715       8 2020-07-29 07:13:18"
      ]
     },
     "execution_count": 4,
     "metadata": {},
     "output_type": "execute_result"
    }
   ],
   "source": [
    "# Data from https://github.com/sidooms/MovieTweetings\n",
    "# user_id::movie_id::rating::rating_timestamp. \n",
    "rdf = pd.read_csv(\"MovieTweetings-master/latest/ratings.dat\", \n",
    "                 sep=\"::\", engine=\"python\",\n",
    "                 names=[\"user_id\", \"movie_id\", \"rating\", \"rating_timestamp\"] )\n",
    "\n",
    "rdf['rating_timestamp'] = pd.to_datetime(rdf['rating_timestamp'], unit='s')\n",
    "rdf.head()"
   ]
  },
  {
   "cell_type": "code",
   "execution_count": 5,
   "metadata": {},
   "outputs": [],
   "source": [
    "# Helper functions\n",
    "strip_parens = re.compile(r\"\\s+\\(.*\\)\")\n",
    "text =\"In My Room (2020)\"\n",
    "# strip_parens.sub(\"\", text)\n",
    "def drop_parens(text):\n",
    "    return strip_parens.sub(\"\", text)\n",
    "def extract_year(text):\n",
    "    return text[text.rfind(\"(\") + 1 : text.rfind(\")\")]\n",
    "# extract_year(text)\n",
    "# extract_year('Remélem legközelebb sikerül meghalnod:) (2018)')"
   ]
  },
  {
   "cell_type": "code",
   "execution_count": 6,
   "metadata": {},
   "outputs": [
    {
     "data": {
      "text/html": [
       "<div>\n",
       "<style scoped>\n",
       "    .dataframe tbody tr th:only-of-type {\n",
       "        vertical-align: middle;\n",
       "    }\n",
       "\n",
       "    .dataframe tbody tr th {\n",
       "        vertical-align: top;\n",
       "    }\n",
       "\n",
       "    .dataframe thead th {\n",
       "        text-align: right;\n",
       "    }\n",
       "</style>\n",
       "<table border=\"1\" class=\"dataframe\">\n",
       "  <thead>\n",
       "    <tr style=\"text-align: right;\">\n",
       "      <th></th>\n",
       "      <th>movie_id</th>\n",
       "      <th>genres</th>\n",
       "      <th>title</th>\n",
       "      <th>movie_year</th>\n",
       "      <th>genre_list</th>\n",
       "    </tr>\n",
       "  </thead>\n",
       "  <tbody>\n",
       "    <tr>\n",
       "      <th>0</th>\n",
       "      <td>8</td>\n",
       "      <td>Documentary|Short</td>\n",
       "      <td>Edison Kinetoscopic Record of a Sneeze</td>\n",
       "      <td>1894</td>\n",
       "      <td>[Documentary, Short]</td>\n",
       "    </tr>\n",
       "    <tr>\n",
       "      <th>1</th>\n",
       "      <td>10</td>\n",
       "      <td>Documentary|Short</td>\n",
       "      <td>La sortie des usines Lumière</td>\n",
       "      <td>1895</td>\n",
       "      <td>[Documentary, Short]</td>\n",
       "    </tr>\n",
       "    <tr>\n",
       "      <th>2</th>\n",
       "      <td>12</td>\n",
       "      <td>Documentary|Short</td>\n",
       "      <td>The Arrival of a Train</td>\n",
       "      <td>1896</td>\n",
       "      <td>[Documentary, Short]</td>\n",
       "    </tr>\n",
       "    <tr>\n",
       "      <th>3</th>\n",
       "      <td>25</td>\n",
       "      <td></td>\n",
       "      <td>The Oxford and Cambridge University Boat Race</td>\n",
       "      <td>1895</td>\n",
       "      <td>[]</td>\n",
       "    </tr>\n",
       "    <tr>\n",
       "      <th>4</th>\n",
       "      <td>91</td>\n",
       "      <td>Short|Horror</td>\n",
       "      <td>Le manoir du diable</td>\n",
       "      <td>1896</td>\n",
       "      <td>[Short, Horror]</td>\n",
       "    </tr>\n",
       "  </tbody>\n",
       "</table>\n",
       "</div>"
      ],
      "text/plain": [
       "   movie_id             genres                                          title  \\\n",
       "0         8  Documentary|Short         Edison Kinetoscopic Record of a Sneeze   \n",
       "1        10  Documentary|Short                   La sortie des usines Lumière   \n",
       "2        12  Documentary|Short                         The Arrival of a Train   \n",
       "3        25                     The Oxford and Cambridge University Boat Race   \n",
       "4        91       Short|Horror                            Le manoir du diable   \n",
       "\n",
       "   movie_year            genre_list  \n",
       "0        1894  [Documentary, Short]  \n",
       "1        1895  [Documentary, Short]  \n",
       "2        1896  [Documentary, Short]  \n",
       "3        1895                    []  \n",
       "4        1896       [Short, Horror]  "
      ]
     },
     "execution_count": 6,
     "metadata": {},
     "output_type": "execute_result"
    }
   ],
   "source": [
    "# movies.dat\n",
    "# Contains the items (i.e., movies) that were rated in the tweets,\n",
    "# together with their genre metadata in the following \n",
    "# format: movie_id::movie_title (movie_year)::genre|genre|genre. For example:\n",
    "\n",
    "# 0110912::Pulp Fiction (1994)::Crime|Thriller\n",
    "\n",
    "mdf = pd.read_csv(\"MovieTweetings-master/latest/movies.dat\", \n",
    "                 sep=\"::\", engine=\"python\",\n",
    "                 names=[\"movie_id\", \"movie_title\", \"genres\"] )\n",
    "mdf.genres.fillna(value='', inplace=True)\n",
    "mdf['title'] = mdf.movie_title.apply(drop_parens)\n",
    "mdf['movie_year'] = mdf.movie_title.apply(extract_year)\n",
    "mdf.movie_year = mdf.movie_year.astype('int')\n",
    "mdf['genre_list'] = mdf.genres.apply(lambda x: x.split(\"|\"))\n",
    "del mdf['movie_title']\n",
    "mdf.head()"
   ]
  },
  {
   "cell_type": "code",
   "execution_count": null,
   "metadata": {},
   "outputs": [],
   "source": [
    " \n",
    "# movies = ['mib', 'st', 'av', 'b', 'ss', 'lm']\n",
    "# users = ['Sara', 'Jesper', 'Therese', 'Helle', 'Pietro', 'Ekaterina']\n",
    "\n",
    "# M = pd.DataFrame([\n",
    "#     [5.0, 3.0, 0.0, 2.0, 2.0, 2.0],\n",
    "#     [4.0, 3.0, 4.0, 0.0, 3.0, 3.0],\n",
    "#     [5.0, 2.0, 5.0, 2.0, 1.0, 1.0],\n",
    "#     [3.0, 5.0, 3.0, 0.0, 1.0, 1.0],\n",
    "#     [3.0, 3.0, 3.0, 2.0, 4.0, 5.0],\n",
    "#     [2.0, 3.0, 2.0, 3.0, 5.0, 5.0]],\n",
    "#     columns=movies,\n",
    "#     index=users)"
   ]
  },
  {
   "cell_type": "code",
   "execution_count": 25,
   "metadata": {},
   "outputs": [],
   "source": [
    "user_ids = list(sorted(set(rdf['user_id'].tolist())))"
   ]
  },
  {
   "cell_type": "code",
   "execution_count": 26,
   "metadata": {},
   "outputs": [],
   "source": [
    "movie_ids = list(sorted(set(rdf['movie_id'].tolist())))"
   ]
  },
  {
   "cell_type": "code",
   "execution_count": 27,
   "metadata": {},
   "outputs": [
    {
     "data": {
      "text/plain": [
       "(36380, 12920708)"
      ]
     },
     "execution_count": 27,
     "metadata": {},
     "output_type": "execute_result"
    }
   ],
   "source": [
    "len(movie_ids), movie_ids[-1]"
   ]
  },
  {
   "cell_type": "code",
   "execution_count": 28,
   "metadata": {},
   "outputs": [],
   "source": [
    "movie_indices = dict(zip( movie_ids,   range(len(movie_ids)) ))"
   ]
  },
  {
   "cell_type": "code",
   "execution_count": 29,
   "metadata": {},
   "outputs": [],
   "source": [
    "user_ratings =[]\n",
    "for uid in user_ids[:5]:\n",
    "    tmpdf = rdf.query(f' user_id == {uid} ')\n",
    "    m_ids = tmpdf['movie_id'].tolist()\n",
    "    ratings = tmpdf['rating'].tolist()\n",
    "    ratings_ar =  [0] * len(movie_ids)\n",
    "    for m_id, rating in zip(m_ids, ratings):\n",
    "        ratings_ar[movie_indices[movie_id]] = rating\n",
    "    user_ratings.append(ratings_ar)\n",
    "        "
   ]
  },
  {
   "cell_type": "code",
   "execution_count": 30,
   "metadata": {},
   "outputs": [],
   "source": [
    "M = pd.DataFrame(user_ratings,    columns=movie_ids,    index=user_ids[:5])"
   ]
  },
  {
   "cell_type": "code",
   "execution_count": 31,
   "metadata": {},
   "outputs": [],
   "source": [
    "U, Sigma, Vt = np.linalg.svd(M)"
   ]
  },
  {
   "cell_type": "code",
   "execution_count": 32,
   "metadata": {},
   "outputs": [
    {
     "data": {
      "text/plain": [
       "array([[-0.43322429, -0.43322429, -0.54153036, -0.37907125, -0.43322429],\n",
       "       [-0.43322429, -0.13095179, -0.16368974, -0.11458282,  0.86904821],\n",
       "       [-0.43322429,  0.86904821, -0.16368974, -0.11458282, -0.13095179],\n",
       "       [-0.54153036, -0.16368974,  0.79538783, -0.14322852, -0.16368974],\n",
       "       [-0.37907125, -0.11458282, -0.14322852,  0.89974004, -0.11458282]])"
      ]
     },
     "execution_count": 32,
     "metadata": {},
     "output_type": "execute_result"
    }
   ],
   "source": [
    "U"
   ]
  },
  {
   "cell_type": "code",
   "execution_count": 33,
   "metadata": {},
   "outputs": [
    {
     "data": {
      "text/plain": [
       "array([18.46618531,  0.        ,  0.        ,  0.        ,  0.        ])"
      ]
     },
     "execution_count": 33,
     "metadata": {},
     "output_type": "execute_result"
    }
   ],
   "source": [
    "Sigma"
   ]
  },
  {
   "cell_type": "code",
   "execution_count": 34,
   "metadata": {},
   "outputs": [
    {
     "data": {
      "text/plain": [
       "array([[0., 0., 0., ..., 0., 0., 0.],\n",
       "       [0., 0., 1., ..., 0., 0., 0.],\n",
       "       [0., 0., 0., ..., 0., 0., 0.],\n",
       "       ...,\n",
       "       [0., 0., 0., ..., 1., 0., 0.],\n",
       "       [0., 0., 0., ..., 0., 1., 0.],\n",
       "       [0., 0., 0., ..., 0., 0., 1.]])"
      ]
     },
     "execution_count": 34,
     "metadata": {},
     "output_type": "execute_result"
    }
   ],
   "source": [
    "Vt"
   ]
  },
  {
   "cell_type": "code",
   "execution_count": null,
   "metadata": {},
   "outputs": [],
   "source": []
  },
  {
   "cell_type": "code",
   "execution_count": 35,
   "metadata": {},
   "outputs": [
    {
     "name": "stderr",
     "output_type": "stream",
     "text": [
      "100%|██████████| 69324/69324 [08:33<00:00, 135.00it/s]  \n"
     ]
    }
   ],
   "source": [
    "user_ratings =[]\n",
    "if os.path.exists('user_ratings.pkl'):\n",
    "    with open('user_ratings.pkl', 'rb') as fp:\n",
    "        user_ratings = pickle.load(fp)\n",
    "else:\n",
    "    for uid in tqdm( user_ids, total=len(user_ids) ):\n",
    "        tmpdf = rdf.query(f' user_id == {uid} ')\n",
    "        m_ids = tmpdf['movie_id'].tolist()\n",
    "        ratings = tmpdf['rating'].tolist()\n",
    "        ratings_ar =  [0] * len(movie_ids)\n",
    "        for m_id, rating in zip(m_ids, ratings):\n",
    "            ratings_ar[movie_indices[movie_id]] = rating\n",
    "        user_ratings.append(ratings_ar)"
   ]
  },
  {
   "cell_type": "code",
   "execution_count": 38,
   "metadata": {},
   "outputs": [],
   "source": [
    "if not os.path.exists('user_ratings.pkl'):\n",
    "    with open ('user_ratings.pkl', 'wb') as fout:\n",
    "        pickle.dump(user_ratings, fout)"
   ]
  },
  {
   "cell_type": "code",
   "execution_count": 51,
   "metadata": {},
   "outputs": [],
   "source": [
    "if not os.path.exists('movie_ids.pkl'):\n",
    "    with open('movie_ids.pkl', 'wb') as fout:\n",
    "        pickle.dump(movie_ids, fout)\n",
    "    with open('user_ids.pkl', 'wb') as fout:\n",
    "        pickle.dump(user_ids, fout)"
   ]
  },
  {
   "cell_type": "code",
   "execution_count": null,
   "metadata": {},
   "outputs": [],
   "source": []
  },
  {
   "cell_type": "code",
   "execution_count": 40,
   "metadata": {},
   "outputs": [
    {
     "name": "stdout",
     "output_type": "stream",
     "text": [
      "-rw-r--r--  1 todd  staff   4.7G Jan  6 10:37 user_ratings.pkl\r\n"
     ]
    }
   ],
   "source": [
    "! ls -lh user_ratings.pkl"
   ]
  },
  {
   "cell_type": "code",
   "execution_count": 41,
   "metadata": {},
   "outputs": [],
   "source": [
    "del user_ratings\n",
    "# 20 gb mem!"
   ]
  },
  {
   "cell_type": "code",
   "execution_count": 42,
   "metadata": {},
   "outputs": [],
   "source": [
    "del mdf\n",
    "del rdf"
   ]
  },
  {
   "cell_type": "code",
   "execution_count": 36,
   "metadata": {},
   "outputs": [],
   "source": [
    "X = np.array(user_ratings)"
   ]
  },
  {
   "cell_type": "code",
   "execution_count": 43,
   "metadata": {},
   "outputs": [],
   "source": [
    "del M\n",
    "del U\n",
    "del Vt\n",
    "del Sigma"
   ]
  },
  {
   "cell_type": "code",
   "execution_count": 44,
   "metadata": {},
   "outputs": [],
   "source": [
    "# >>> import numpy as np\n",
    "# >>> X = np.array([[1, 1], [2, 1], [3, 1.2], [4, 1], [5, 0.8], [6, 1]])\n",
    "# >>> from sklearn.decomposition import NMF\n",
    "num_components =10\n",
    "model = NMF(n_components=num_components, init='random', random_state=0)\n",
    "W = model.fit_transform(X)\n",
    "# >>> H = model.components_"
   ]
  },
  {
   "cell_type": "code",
   "execution_count": 45,
   "metadata": {},
   "outputs": [],
   "source": [
    "indices_movies = dict(zip(range(len(movie_ids)), movie_ids))"
   ]
  },
  {
   "cell_type": "code",
   "execution_count": 47,
   "metadata": {},
   "outputs": [
    {
     "name": "stderr",
     "output_type": "stream",
     "text": [
      "100%|██████████| 69324/69324 [00:01<00:00, 64266.34it/s]\n"
     ]
    }
   ],
   "source": [
    "# 100 1375666:1.420 0482571:0.232 1457767:0.158 1130884:0.113\n",
    "with open(f\"nmf.weights.{num_components}.txt\",  'wt') as fout:\n",
    "    for idx, user_id in  tqdm(enumerate(user_ids), total=len(user_ids)):\n",
    "        weights = W[idx]\n",
    "        values =[]\n",
    "        for mid, weight in zip(movie_ids, weights ):\n",
    "            values.append(f\"{mid}:{weight:3f}\")\n",
    "        fout.write(f\"{user_id} {' '.join(values)}\")"
   ]
  },
  {
   "cell_type": "code",
   "execution_count": 48,
   "metadata": {},
   "outputs": [
    {
     "name": "stdout",
     "output_type": "stream",
     "text": [
      "-rw-r--r--  1 todd  staff   8.5M Jan  6 10:56 nmf.weights.10.txt\r\n"
     ]
    }
   ],
   "source": [
    "! ls -lh nmf.*"
   ]
  },
  {
   "cell_type": "code",
   "execution_count": 49,
   "metadata": {},
   "outputs": [],
   "source": [
    "! cp nmf.weights.10.txt live-project/nnmf_recs.csv"
   ]
  },
  {
   "cell_type": "code",
   "execution_count": null,
   "metadata": {},
   "outputs": [],
   "source": [
    "# Look at the recommendations your algorithm provides.\n",
    "# Write a report that describes\n",
    "#     how you implemented your algorithm\n",
    "#     how you trained the model\n",
    "#     what you think of the result\n"
   ]
  }
 ],
 "metadata": {
  "kernelspec": {
   "display_name": "Python 3",
   "language": "python",
   "name": "python3"
  },
  "language_info": {
   "codemirror_mode": {
    "name": "ipython",
    "version": 3
   },
   "file_extension": ".py",
   "mimetype": "text/x-python",
   "name": "python",
   "nbconvert_exporter": "python",
   "pygments_lexer": "ipython3",
   "version": "3.7.6"
  }
 },
 "nbformat": 4,
 "nbformat_minor": 4
}
